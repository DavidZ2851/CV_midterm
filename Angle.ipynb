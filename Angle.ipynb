{
 "cells": [
  {
   "cell_type": "code",
   "execution_count": null,
   "metadata": {},
   "outputs": [],
   "source": [
    "class Angle:\n",
    "    def __init__(self,fov_x,fov_y,width_pixels,height_pixels):\n",
    "        self.width_pixels = width_pixels\n",
    "        self.height_pixels = height_pixels\n",
    "        self.x_center = width_pixels/2\n",
    "        self.y_center = height_pixels/2\n",
    "        self.angle_per_pixel_x = fov_x/width_pixels\n",
    "        self.angle_per_pixel_y = fov_y/height_pixels\n",
    "        \n",
    "\n",
    "    def get_vertical_offset(self,detection_y):\n",
    "        \n",
    "        return (detection_y - self.y_center) * self.angle_per_pixel_y\n",
    "\n",
    "    def get_horizontal_offset(self,detection_x):\n",
    "        return (detection_x - self.x_center) * self.angle_per_pixel_x"
   ]
  }
 ],
 "metadata": {
  "language_info": {
   "name": "python"
  },
  "orig_nbformat": 4
 },
 "nbformat": 4,
 "nbformat_minor": 2
}
